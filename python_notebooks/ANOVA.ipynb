{
 "nbformat": 4,
 "nbformat_minor": 2,
 "metadata": {
  "language_info": {
   "name": "python",
   "codemirror_mode": {
    "name": "ipython",
    "version": 3
   },
   "version": "3.7.4-final"
  },
  "orig_nbformat": 2,
  "file_extension": ".py",
  "mimetype": "text/x-python",
  "name": "python",
  "npconvert_exporter": "python",
  "pygments_lexer": "ipython3",
  "version": 3,
  "kernelspec": {
   "name": "python37464bitbaseconda5a4a49c3f9c84503adb33f3b6495f59a",
   "display_name": "Python 3.7.4 64-bit ('base': conda)"
  }
 },
 "cells": [
  {
   "source": [
    "import pandas as pd\n",
    "import savReaderWriter as spss\n",
    "import numpy as np\n",
    "import scipy.stats as stats\n",
    "import researchpy as rp\n",
    "import statsmodels.api as sm\n",
    "from statsmodels.formula.api import ols\n",
    "import matplotlib.pyplot as plt"
   ],
   "cell_type": "code",
   "outputs": [],
   "metadata": {},
   "execution_count": 1
  },
  {
   "source": [
    "data = pd.DataFrame(list(spss.SavReader('g5reading.sav')))\n",
    "with spss.SavReaderNp (\"g5reading.sav\") as reader:\n",
    "    records = reader.all()\n",
    "df = pd.DataFrame(records)\n",
    "df.head()"
   ],
   "cell_type": "code",
   "outputs": [
    {
     "output_type": "execute_result",
     "data": {
      "text/plain": "     sid  Gender  ethnic  sped  poverty  proficiency   ORF1   ORF2   ORF3  \\\n0  205.0     0.0     6.0   0.0      0.0          3.0  176.0  136.0  194.0   \n1   88.0     0.0     4.0   1.0      1.0          1.0   55.0   52.0   72.0   \n2  161.0     0.0     5.0   1.0      0.0          2.0  110.0  122.0  142.0   \n3   58.0     0.0     4.0   1.0      0.0          2.0  106.0   95.0  111.0   \n4   63.0     1.0     4.0   0.0      1.0          2.0  136.0  142.0  164.0   \n\n   VOC1  VOC3  MCC1  MCC2  MCC3  Rit_Tot  \n0  23.0  22.0  15.0  12.0  17.0    231.0  \n1   9.0   7.0  10.0   4.0   9.0    206.0  \n2  17.0  18.0  12.0  16.0  18.0    225.0  \n3  18.0  20.0  16.0  17.0  14.0    221.0  \n4  18.0  15.0  14.0  15.0  17.0    223.0  ",
      "text/html": "<div>\n<style scoped>\n    .dataframe tbody tr th:only-of-type {\n        vertical-align: middle;\n    }\n\n    .dataframe tbody tr th {\n        vertical-align: top;\n    }\n\n    .dataframe thead th {\n        text-align: right;\n    }\n</style>\n<table border=\"1\" class=\"dataframe\">\n  <thead>\n    <tr style=\"text-align: right;\">\n      <th></th>\n      <th>sid</th>\n      <th>Gender</th>\n      <th>ethnic</th>\n      <th>sped</th>\n      <th>poverty</th>\n      <th>proficiency</th>\n      <th>ORF1</th>\n      <th>ORF2</th>\n      <th>ORF3</th>\n      <th>VOC1</th>\n      <th>VOC3</th>\n      <th>MCC1</th>\n      <th>MCC2</th>\n      <th>MCC3</th>\n      <th>Rit_Tot</th>\n    </tr>\n  </thead>\n  <tbody>\n    <tr>\n      <td>0</td>\n      <td>205.0</td>\n      <td>0.0</td>\n      <td>6.0</td>\n      <td>0.0</td>\n      <td>0.0</td>\n      <td>3.0</td>\n      <td>176.0</td>\n      <td>136.0</td>\n      <td>194.0</td>\n      <td>23.0</td>\n      <td>22.0</td>\n      <td>15.0</td>\n      <td>12.0</td>\n      <td>17.0</td>\n      <td>231.0</td>\n    </tr>\n    <tr>\n      <td>1</td>\n      <td>88.0</td>\n      <td>0.0</td>\n      <td>4.0</td>\n      <td>1.0</td>\n      <td>1.0</td>\n      <td>1.0</td>\n      <td>55.0</td>\n      <td>52.0</td>\n      <td>72.0</td>\n      <td>9.0</td>\n      <td>7.0</td>\n      <td>10.0</td>\n      <td>4.0</td>\n      <td>9.0</td>\n      <td>206.0</td>\n    </tr>\n    <tr>\n      <td>2</td>\n      <td>161.0</td>\n      <td>0.0</td>\n      <td>5.0</td>\n      <td>1.0</td>\n      <td>0.0</td>\n      <td>2.0</td>\n      <td>110.0</td>\n      <td>122.0</td>\n      <td>142.0</td>\n      <td>17.0</td>\n      <td>18.0</td>\n      <td>12.0</td>\n      <td>16.0</td>\n      <td>18.0</td>\n      <td>225.0</td>\n    </tr>\n    <tr>\n      <td>3</td>\n      <td>58.0</td>\n      <td>0.0</td>\n      <td>4.0</td>\n      <td>1.0</td>\n      <td>0.0</td>\n      <td>2.0</td>\n      <td>106.0</td>\n      <td>95.0</td>\n      <td>111.0</td>\n      <td>18.0</td>\n      <td>20.0</td>\n      <td>16.0</td>\n      <td>17.0</td>\n      <td>14.0</td>\n      <td>221.0</td>\n    </tr>\n    <tr>\n      <td>4</td>\n      <td>63.0</td>\n      <td>1.0</td>\n      <td>4.0</td>\n      <td>0.0</td>\n      <td>1.0</td>\n      <td>2.0</td>\n      <td>136.0</td>\n      <td>142.0</td>\n      <td>164.0</td>\n      <td>18.0</td>\n      <td>15.0</td>\n      <td>14.0</td>\n      <td>15.0</td>\n      <td>17.0</td>\n      <td>223.0</td>\n    </tr>\n  </tbody>\n</table>\n</div>"
     },
     "metadata": {},
     "execution_count": 2
    }
   ],
   "metadata": {},
   "execution_count": 2
  },
  {
   "cell_type": "code",
   "execution_count": 16,
   "metadata": {},
   "outputs": [
    {
     "ename": "NameError",
     "evalue": "name 'df' is not defined",
     "output_type": "error",
     "traceback": [
      "\u001b[1;31m---------------------------------------------------------------------------\u001b[0m",
      "\u001b[1;31mNameError\u001b[0m                                 Traceback (most recent call last)",
      "\u001b[1;32m<ipython-input-16-2b0c26102619>\u001b[0m in \u001b[0;36m<module>\u001b[1;34m\u001b[0m\n\u001b[1;32m----> 1\u001b[1;33m \u001b[0mrp\u001b[0m\u001b[1;33m.\u001b[0m\u001b[0msummary_cont\u001b[0m\u001b[1;33m(\u001b[0m\u001b[0mdf\u001b[0m\u001b[1;33m[\u001b[0m\u001b[1;34m'cbmgrow'\u001b[0m\u001b[1;33m]\u001b[0m\u001b[1;33m.\u001b[0m\u001b[0mgroupby\u001b[0m\u001b[1;33m(\u001b[0m\u001b[0mdf\u001b[0m\u001b[1;33m[\u001b[0m\u001b[1;34m'achlvl'\u001b[0m\u001b[1;33m]\u001b[0m\u001b[1;33m)\u001b[0m\u001b[1;33m)\u001b[0m\u001b[1;33m\u001b[0m\u001b[1;33m\u001b[0m\u001b[0m\n\u001b[0m",
      "\u001b[1;31mNameError\u001b[0m: name 'df' is not defined"
     ]
    }
   ],
   "source": [
    "rp.summary_cont(df['cbmgrow'].groupby(df['achlvl']))"
   ]
  },
  {
   "cell_type": "code",
   "execution_count": 18,
   "metadata": {},
   "outputs": [
    {
     "ename": "SyntaxError",
     "evalue": "invalid syntax (<ipython-input-18-bc680e0c9770>, line 5)",
     "output_type": "error",
     "traceback": [
      "\u001b[1;36m  File \u001b[1;32m\"<ipython-input-18-bc680e0c9770>\"\u001b[1;36m, line \u001b[1;32m5\u001b[0m\n\u001b[1;33m    df['libido'][df['dose'] == '3.0'],\u001b[0m\n\u001b[1;37m     ^\u001b[0m\n\u001b[1;31mSyntaxError\u001b[0m\u001b[1;31m:\u001b[0m invalid syntax\n"
     ]
    }
   ],
   "source": [
    "stats.f_oneway(\n",
    "    df['libido'][df['dose'] == '1.0'], \n",
    "    df['libido'][df['dose'] == '2.0'],\n",
    "    df['libido'][df['dose'] == '3.0']\n",
    "    df['libido'][df['dose'] == '3.0'],\n",
    "             )"
   ]
  },
  {
   "cell_type": "code",
   "execution_count": null,
   "metadata": {},
   "outputs": [],
   "source": []
  }
 ]
}